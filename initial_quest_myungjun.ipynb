{
  "nbformat": 4,
  "nbformat_minor": 0,
  "metadata": {
    "colab": {
      "provenance": [],
      "authorship_tag": "ABX9TyMbFBqWLnEMNJPpmxRGvCsY",
      "include_colab_link": true
    },
    "kernelspec": {
      "name": "python3",
      "display_name": "Python 3"
    },
    "language_info": {
      "name": "python"
    }
  },
  "cells": [
    {
      "cell_type": "markdown",
      "metadata": {
        "id": "view-in-github",
        "colab_type": "text"
      },
      "source": [
        "<a href=\"https://colab.research.google.com/github/sweetmjkim/study_temp_second/blob/main/initial_quest_myungjun.ipynb\" target=\"_parent\"><img src=\"https://colab.research.google.com/assets/colab-badge.svg\" alt=\"Open In Colab\"/></a>"
      ]
    },
    {
      "cell_type": "code",
      "execution_count": null,
      "metadata": {
        "colab": {
          "base_uri": "https://localhost:8080/"
        },
        "id": "lICzwSM3Cron",
        "outputId": "590bbd1e-3612-496e-d282-079d09f5620e"
      },
      "outputs": [
        {
          "output_type": "stream",
          "name": "stdout",
          "text": [
            "28을 곱셈했음\n",
            "9을 곱셈했음\n"
          ]
        }
      ],
      "source": [
        "# quest\n",
        "# initial_quest_[name].ipynd\n",
        "# \"28을 곱셈했음\" 출력\n",
        "# \"9을 곱셈했음\" 출력\n",
        "# 변수 이름 : input_first, input_second\n",
        "input = \"28을 곱셈했음\"\n",
        "result = input\n",
        "print(result)\n",
        "input = \"9을 곱셈했음\"\n",
        "result = input\n",
        "print(result)"
      ]
    }
  ]
}